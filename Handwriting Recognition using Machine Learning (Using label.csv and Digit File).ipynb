{
 "cells": [
  {
   "cell_type": "code",
   "execution_count": 20,
   "metadata": {},
   "outputs": [
    {
     "data": {
      "image/png": "[encoded data removed]",
      "text/plain": [
       "<Figure size 432x288 with 1 Axes>"
      ]
     },
     "metadata": {
      "needs_background": "light"
     },
     "output_type": "display_data"
    }
   ],
   "source": [
    "import numpy as np\n",
    "import pandas as pd\n",
    "import matplotlib.image as mpimg \n",
    "import matplotlib.pyplot as plt \n",
    "%matplotlib inline\n",
    "from sklearn.model_selection import train_test_split\n",
    "from   sklearn.ensemble    import    RandomForestClassifier\n",
    "from sklearn.metrics import accuracy_score\n",
    "df = pd.read_csv(r\"C:\\Users\\Michael Scott\\Desktop\\HW5\\label.csv\")\n",
    "img = mpimg.imread(r\"C:\\Users\\Michael Scott\\Desktop\\HW5\\Digit\\0.jpg\")\n",
    "\n",
    "plt.imshow(img, cmap=plt.cm.gray_r, interpolation='nearest')\n",
    "feature_cols = ['name of the file']\n",
    "X = df[feature_cols] \n",
    "y = df['digit label']"
   ]
  },
  {
   "cell_type": "code",
   "execution_count": 21,
   "metadata": {},
   "outputs": [],
   "source": [
    "df_Digit = df[\"digit label\"]\n",
    "data = [[0 for i in range(64)] for j in range(1700)]\n",
    "col = [\"\"]*64\n",
    "for i in range(1700):\n",
    "    name = str(i) + '.jpg'\n",
    "    img = mpimg.imread(r'C:\\Users\\Michael Scott\\Desktop\\HW5\\Digit\\\\' + name)\n",
    "    imgArray = np.asarray(img)\n",
    "    imgArray = imgArray.ravel()\n",
    "    for j in range(64):\n",
    "        data[i][j] = imgArray[j]        \n",
    "for n in range(64):\n",
    "    col[n] = str(n)\n",
    "    \n",
    "df = pd.DataFrame(data, columns=col)"
   ]
  },
  {
   "cell_type": "code",
   "execution_count": 22,
   "metadata": {},
   "outputs": [],
   "source": [
    "X_train, X_test, y_train, y_test = train_test_split(X, y, test_size=0.1, random_state=3)"
   ]
  },
  {
   "cell_type": "code",
   "execution_count": 23,
   "metadata": {},
   "outputs": [],
   "source": [
    "my_RandomForest =  RandomForestClassifier(n_estimators = 19, bootstrap = True, random_state=3)"
   ]
  },
  {
   "cell_type": "code",
   "execution_count": 24,
   "metadata": {},
   "outputs": [],
   "source": [
    "my_RandomForest.fit(X_train, y_train)\n",
    "y_predict_rf = my_RandomForest.predict(X_test)"
   ]
  },
  {
   "cell_type": "code",
   "execution_count": 25,
   "metadata": {},
   "outputs": [
    {
     "name": "stdout",
     "output_type": "stream",
     "text": [
      "0.1\n"
     ]
    }
   ],
   "source": [
    "score_rf = accuracy_score(y_test, y_predict_rf)\n",
    "print(score_rf)"
   ]
  },
  {
   "cell_type": "code",
   "execution_count": null,
   "metadata": {},
   "outputs": [],
   "source": [
    "for i in range(1700):\n",
    "    for j in range(64):\n",
    "        "
   ]
  }
 ],
 "metadata": {
  "kernelspec": {
   "display_name": "Python 3",
   "language": "python",
   "name": "python3"
  },
  "language_info": {
   "codemirror_mode": {
    "name": "ipython",
    "version": 3
   },
   "file_extension": ".py",
   "mimetype": "text/x-python",
   "name": "python",
   "nbconvert_exporter": "python",
   "pygments_lexer": "ipython3",
   "version": "3.7.3"
  }
 },
 "nbformat": 4,
 "nbformat_minor": 2
}
