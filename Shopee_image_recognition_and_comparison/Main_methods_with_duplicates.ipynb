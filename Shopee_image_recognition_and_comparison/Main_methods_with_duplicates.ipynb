{
 "cells": [
  {
   "cell_type": "code",
   "execution_count": 2,
   "id": "d26b8057",
   "metadata": {},
   "outputs": [],
   "source": [
    "from sklearn.neural_network import MLPClassifier\n",
    "from  keras.wrappers.scikit_learn  import  KerasClassifier\n",
    "from sklearn.model_selection import train_test_split\n",
    "from sklearn.model_selection import cross_val_score\n",
    "from sklearn.metrics import accuracy_score\n",
    "from sklearn.tree import DecisionTreeClassifier\n",
    "from sklearn import metrics\n",
    "from sklearn import preprocessing\n",
    "import matplotlib.pyplot as plt\n",
    "import matplotlib.image as mpimg\n",
    "import numpy as np\n",
    "import pandas as pd\n",
    "from xgboost import XGBClassifier\n",
    "from PIL import Image\n",
    "from sklearn.ensemble import RandomForestClassifier\n",
    "from scipy import ndimage\n",
    "from sklearn.ensemble import AdaBoostClassifier\n",
    "from keras.preprocessing.image import ImageDataGenerator, img_to_array, array_to_img, load_img"
   ]
  },
  {
   "cell_type": "code",
   "execution_count": 3,
   "id": "8e024049",
   "metadata": {},
   "outputs": [],
   "source": [
    "df_test  = pd.read_csv('/Users/Michael Scott/Desktop/shopee-product-matching/test.csv')\n",
    "df_train  = pd.read_csv('/Users/Michael Scott/Desktop/shopee-product-matching/train.csv')\n",
    "df_trains  = pd.read_csv('/Users/Michael Scott/Desktop/shopee-product-matching/train_sample.csv')\n",
    "df_test.head()\n",
    "feature_cols = ['posting_id','image','image_phash','title']\n",
    "y = df_trains['label_group']\n",
    "X = df_train[feature_cols]\n",
    "#y_trains = df_trains['label_group']"
   ]
  },
  {
   "cell_type": "code",
   "execution_count": 4,
   "id": "4f1abcc5",
   "metadata": {},
   "outputs": [],
   "source": [
    "train_files = []\n",
    "y_train = []\n",
    "image_width = 640\n",
    "image_height = 640\n",
    "i=0\n",
    "image_path = '/Users/Michael Scott/Desktop/shopee-product-matching/train_samples/' + df_trains['image']"
   ]
  },
  {
   "cell_type": "code",
   "execution_count": 5,
   "id": "58d796e7",
   "metadata": {},
   "outputs": [
    {
     "name": "stdout",
     "output_type": "stream",
     "text": [
      "[168  98 108 ... 114 134 255]\n"
     ]
    }
   ],
   "source": [
    "for m in range(len(df_trains)):\n",
    "    img = Image.open(image_path[m]).convert('RGBA')\n",
    "    img = img.resize((image_width, image_height))\n",
    "    filled_arr = np.array(img)\n",
    "    oneD_arr = filled_arr.ravel()\n",
    "    train_files.append(oneD_arr)\n",
    "\n",
    "print(train_files[0])"
   ]
  },
  {
   "cell_type": "code",
   "execution_count": 6,
   "id": "510bc0dd",
   "metadata": {},
   "outputs": [],
   "source": [
    "normalized = preprocessing.scale(train_files)"
   ]
  },
  {
   "cell_type": "code",
   "execution_count": 7,
   "id": "2f94e270",
   "metadata": {},
   "outputs": [],
   "source": [
    "X_train, X_test, y_train, y_test = train_test_split(normalized, y, test_size=0.3, random_state=2)"
   ]
  },
  {
   "cell_type": "code",
   "execution_count": 8,
   "id": "e7e187f7",
   "metadata": {},
   "outputs": [
    {
     "name": "stdout",
     "output_type": "stream",
     "text": [
      "Random Forest accuracy: \n",
      "0.05405405405405406\n",
      "Random Forest AUC: \n",
      "nan\n"
     ]
    },
    {
     "name": "stderr",
     "output_type": "stream",
     "text": [
      "C:\\Users\\Michael Scott\\Anaconda3\\lib\\site-packages\\sklearn\\metrics\\ranking.py:659: UndefinedMetricWarning: No positive samples in y_true, true positive value should be meaningless\n",
      "  UndefinedMetricWarning)\n"
     ]
    }
   ],
   "source": [
    "from   sklearn.ensemble    import    RandomForestClassifier\n",
    "\n",
    "my_RandomForest = RandomForestClassifier(n_estimators = 29, bootstrap = True, random_state=2)\n",
    "my_RandomForest.fit(X_train, y_train)\n",
    "y_predict_rf = my_RandomForest.predict(X_test)\n",
    "\n",
    "score_rf = accuracy_score(y_test, y_predict_rf)\n",
    "\n",
    "y_predict_rf_proba = my_RandomForest.predict_proba(X_test)\n",
    "\n",
    "fpr4, tpr4, thresholds = metrics.roc_curve(y_test, y_predict_rf_proba[:,1], pos_label=1)\n",
    "rf_AUC = metrics.auc(fpr4, tpr4)\n",
    "print(\"Random Forest accuracy: \")\n",
    "print(score_rf)\n",
    "print(\"Random Forest AUC: \")\n",
    "print(rf_AUC)"
   ]
  },
  {
   "cell_type": "code",
   "execution_count": 9,
   "id": "07477760",
   "metadata": {},
   "outputs": [
    {
     "name": "stderr",
     "output_type": "stream",
     "text": [
      "C:\\Users\\Michael Scott\\Anaconda3\\lib\\site-packages\\xgboost\\sklearn.py:888: UserWarning: The use of label encoder in XGBClassifier is deprecated and will be removed in a future release. To remove this warning, do the following: 1) Pass option use_label_encoder=False when constructing XGBClassifier object; and 2) Encode your labels (y) as integers starting with 0, i.e. 0, 1, 2, ..., [num_class - 1].\n",
      "  warnings.warn(label_encoder_deprecation_msg, UserWarning)\n"
     ]
    },
    {
     "name": "stdout",
     "output_type": "stream",
     "text": [
      "[06:58:15] WARNING: C:/Users/Administrator/workspace/xgboost-win64_release_1.3.0/src/learner.cc:1061: Starting in XGBoost 1.3.0, the default evaluation metric used with the objective 'multi:softprob' was changed from 'merror' to 'mlogloss'. Explicitly set eval_metric if you'd like to restore the old behavior.\n",
      "XGBoost accuracy: \n",
      "0.05405405405405406\n",
      "XGBoost AUC: \n",
      "nan\n"
     ]
    }
   ],
   "source": [
    "from   xgboost   import   XGBClassifier\n",
    "\n",
    "my_XGBoost = XGBClassifier(n_estimators = 29,random_state=2)\n",
    "my_XGBoost.fit(X_train, y_train)\n",
    "y_XGBoost_predict = my_XGBoost.predict(X_test)\n",
    "xG_score = accuracy_score(y_test, y_XGBoost_predict)\n",
    "\n",
    "y_predict_xg_proba = my_XGBoost.predict_proba(X_test)\n",
    "\n",
    "fpr3, tpr3, thresholds = metrics.roc_curve(y_test, y_predict_xg_proba[:,1], pos_label=1)\n",
    "\n",
    "xg_AUC=metrics.auc(fpr3, tpr3)\n",
    "\n",
    "\n",
    "print(\"XGBoost accuracy: \")\n",
    "print(xG_score)\n",
    "print(\"XGBoost AUC: \")\n",
    "print(xg_AUC)"
   ]
  },
  {
   "cell_type": "code",
   "execution_count": 10,
   "id": "d20efffa",
   "metadata": {},
   "outputs": [
    {
     "name": "stdout",
     "output_type": "stream",
     "text": [
      "Ada accuracy: \n",
      "0.0\n",
      "Ada AUC: \n",
      "nan\n"
     ]
    },
    {
     "name": "stderr",
     "output_type": "stream",
     "text": [
      "C:\\Users\\Michael Scott\\Anaconda3\\lib\\site-packages\\sklearn\\metrics\\ranking.py:659: UndefinedMetricWarning: No positive samples in y_true, true positive value should be meaningless\n",
      "  UndefinedMetricWarning)\n"
     ]
    }
   ],
   "source": [
    "from   sklearn.ensemble   import     AdaBoostClassifier\n",
    "\n",
    "my_AdaBoost = AdaBoostClassifier(n_estimators = 29,random_state=2)\n",
    "my_AdaBoost.fit(X_train, y_train)\n",
    "y_AdaBoost_predict = my_AdaBoost.predict(X_test)\n",
    "adaBoost_score = accuracy_score(y_test, y_AdaBoost_predict)\n",
    "\n",
    "y_predict_ada_proba = my_AdaBoost.predict_proba(X_test)\n",
    "\n",
    "fpr2, tpr2, thresholds = metrics.roc_curve(y_test, y_predict_ada_proba[:,1], pos_label=1)\n",
    "\n",
    "ada_AUC = metrics.auc(fpr2, tpr2)\n",
    "\n",
    "print(\"Ada accuracy: \")\n",
    "print(adaBoost_score)\n",
    "print(\"Ada AUC: \")\n",
    "print(ada_AUC)"
   ]
  },
  {
   "cell_type": "code",
   "execution_count": 11,
   "id": "d68e1b21",
   "metadata": {},
   "outputs": [],
   "source": [
    "from sklearn.neural_network import MLPClassifier\n",
    "my_ANN = MLPClassifier(hidden_layer_sizes=(30,), activation= 'logistic', \n",
    "                       solver='adam', alpha=1, random_state=1, \n",
    "                       learning_rate_init = 0.02, verbose=True, tol=0.0001)"
   ]
  },
  {
   "cell_type": "code",
   "execution_count": 13,
   "id": "eda0805f",
   "metadata": {},
   "outputs": [],
   "source": [
    "my_ANN = MLPClassifier(hidden_layer_sizes=(30,), activation= 'logistic', \n",
    "                       solver='adam', alpha=1, random_state=1, \n",
    "                       learning_rate_init = 0.02, verbose=True, tol=0.0001)"
   ]
  },
  {
   "cell_type": "code",
   "execution_count": 14,
   "id": "34125d88",
   "metadata": {},
   "outputs": [
    {
     "name": "stdout",
     "output_type": "stream",
     "text": [
      "Iteration 1, loss = 32.06585749\n",
      "Iteration 2, loss = 92.64918108\n",
      "Iteration 3, loss = 96.03986236\n",
      "Iteration 4, loss = 62.41232448\n",
      "Iteration 5, loss = 38.59468300\n",
      "Iteration 6, loss = 25.94600396\n",
      "Iteration 7, loss = 22.85831817\n",
      "Iteration 8, loss = 24.38198026\n",
      "Iteration 9, loss = 23.46992652\n",
      "Iteration 10, loss = 22.01164526\n",
      "Iteration 11, loss = 20.38339132\n",
      "Iteration 12, loss = 17.43001335\n",
      "Iteration 13, loss = 15.36185030\n",
      "Iteration 14, loss = 14.79178218\n",
      "Iteration 15, loss = 14.20033917\n",
      "Iteration 16, loss = 13.61720279\n",
      "Iteration 17, loss = 12.93795538\n",
      "Iteration 18, loss = 11.88496202\n",
      "Iteration 19, loss = 11.18501865\n",
      "Iteration 20, loss = 11.03283696\n",
      "Iteration 21, loss = 10.64494887\n",
      "Iteration 22, loss = 9.85867270\n",
      "Iteration 23, loss = 9.45714477\n",
      "Iteration 24, loss = 9.46083705\n",
      "Iteration 25, loss = 9.26219148\n",
      "Iteration 26, loss = 8.63140335\n",
      "Iteration 27, loss = 8.43274301\n",
      "Iteration 28, loss = 8.80794658\n",
      "Iteration 29, loss = 8.84528716\n",
      "Iteration 30, loss = 8.26583490\n",
      "Iteration 31, loss = 8.17741184\n",
      "Iteration 32, loss = 8.81652684\n",
      "Iteration 33, loss = 9.40573442\n",
      "Iteration 34, loss = 9.49148003\n",
      "Iteration 35, loss = 9.06381767\n",
      "Iteration 36, loss = 9.17340018\n",
      "Iteration 37, loss = 10.31467946\n",
      "Iteration 38, loss = 11.39051406\n",
      "Iteration 39, loss = 11.56492032\n",
      "Iteration 40, loss = 10.76887278\n",
      "Iteration 41, loss = 10.31249675\n",
      "Iteration 42, loss = 10.66542592\n",
      "Training loss did not improve more than tol=0.000100 for 10 consecutive epochs. Stopping.\n"
     ]
    },
    {
     "data": {
      "text/plain": [
       "MLPClassifier(activation='logistic', alpha=1, batch_size='auto', beta_1=0.9,\n",
       "              beta_2=0.999, early_stopping=False, epsilon=1e-08,\n",
       "              hidden_layer_sizes=(30,), learning_rate='constant',\n",
       "              learning_rate_init=0.02, max_iter=200, momentum=0.9,\n",
       "              n_iter_no_change=10, nesterovs_momentum=True, power_t=0.5,\n",
       "              random_state=1, shuffle=True, solver='adam', tol=0.0001,\n",
       "              validation_fraction=0.1, verbose=True, warm_start=False)"
      ]
     },
     "execution_count": 14,
     "metadata": {},
     "output_type": "execute_result"
    }
   ],
   "source": [
    "my_ANN.fit(X_train, y_train)"
   ]
  },
  {
   "cell_type": "code",
   "execution_count": 18,
   "id": "9bf9bb23",
   "metadata": {},
   "outputs": [
    {
     "name": "stderr",
     "output_type": "stream",
     "text": [
      "C:\\Users\\Michael Scott\\Anaconda3\\lib\\site-packages\\sklearn\\model_selection\\_split.py:657: Warning: The least populated class in y has only 1 members, which is too few. The minimum number of members in any class cannot be less than n_splits=3.\n",
      "  % (min_groups, self.n_splits)), Warning)\n"
     ]
    },
    {
     "name": "stdout",
     "output_type": "stream",
     "text": [
      "Iteration 1, loss = 3.44373411\n",
      "Iteration 2, loss = 565.67667468\n",
      "Iteration 3, loss = 841.09722642\n",
      "Iteration 4, loss = 1045.86870955\n",
      "Iteration 5, loss = 1099.05029381\n",
      "Iteration 6, loss = 971.91029018\n",
      "Iteration 7, loss = 773.07151725\n",
      "Iteration 8, loss = 596.15099977\n",
      "Iteration 9, loss = 472.19546468\n",
      "Iteration 10, loss = 379.61025823\n",
      "Iteration 11, loss = 296.10421918\n",
      "Iteration 12, loss = 225.37718079\n",
      "Training loss did not improve more than tol=0.000100 for 10 consecutive epochs. Stopping.\n",
      "Iteration 1, loss = 33.10538757\n",
      "Iteration 2, loss = 92.85313656\n",
      "Iteration 3, loss = 94.45810610\n",
      "Iteration 4, loss = 60.16113701\n",
      "Iteration 5, loss = 36.78387143\n",
      "Iteration 6, loss = 25.40670392\n",
      "Iteration 7, loss = 22.68952919\n",
      "Iteration 8, loss = 24.50647292\n",
      "Iteration 9, loss = 23.66092102\n",
      "Iteration 10, loss = 21.24923776\n",
      "Iteration 11, loss = 19.60355008\n",
      "Iteration 12, loss = 17.67858874\n",
      "Iteration 13, loss = 15.84255730\n",
      "Iteration 14, loss = 14.00352312\n",
      "Iteration 15, loss = 12.17986342\n",
      "Iteration 16, loss = 11.64774598\n",
      "Iteration 17, loss = 11.57334635\n",
      "Iteration 18, loss = 10.91535857\n",
      "Iteration 19, loss = 10.16571389\n",
      "Iteration 20, loss = 9.52621806\n",
      "Iteration 21, loss = 9.08940483\n",
      "Iteration 22, loss = 8.92618203\n",
      "Iteration 23, loss = 8.61868485\n",
      "Iteration 24, loss = 8.41417392\n",
      "Iteration 25, loss = 8.57284992\n",
      "Iteration 26, loss = 8.57372998\n",
      "Iteration 27, loss = 8.45426129\n",
      "Iteration 28, loss = 9.00679460\n",
      "Iteration 29, loss = 9.28759485\n",
      "Iteration 30, loss = 9.61393295\n",
      "Iteration 31, loss = 9.72468938\n",
      "Iteration 32, loss = 9.51124068\n",
      "Iteration 33, loss = 9.83997714\n",
      "Iteration 34, loss = 10.02894580\n",
      "Iteration 35, loss = 9.69451594\n",
      "Training loss did not improve more than tol=0.000100 for 10 consecutive epochs. Stopping.\n",
      "Iteration 1, loss = 32.38247405\n",
      "Iteration 2, loss = 92.73724679\n",
      "Iteration 3, loss = 95.50925367\n",
      "Iteration 4, loss = 61.59397298\n",
      "Iteration 5, loss = 37.77467557\n",
      "Iteration 6, loss = 25.25080399\n",
      "Iteration 7, loss = 22.41759858\n",
      "Iteration 8, loss = 24.85498715\n",
      "Iteration 9, loss = 24.42105560\n",
      "Iteration 10, loss = 22.31740356\n",
      "Iteration 11, loss = 20.07592864\n",
      "Iteration 12, loss = 17.26617945\n",
      "Iteration 13, loss = 15.58106326\n",
      "Iteration 14, loss = 14.65814102\n",
      "Iteration 15, loss = 13.78940447\n",
      "Iteration 16, loss = 13.04774545\n",
      "Iteration 17, loss = 12.18805679\n",
      "Iteration 18, loss = 11.72559364\n",
      "Iteration 19, loss = 11.42703836\n",
      "Iteration 20, loss = 10.89653065\n",
      "Iteration 21, loss = 10.54661774\n",
      "Iteration 22, loss = 10.09427592\n",
      "Iteration 23, loss = 9.50528383\n",
      "Iteration 24, loss = 9.16445078\n",
      "Iteration 25, loss = 9.08973896\n",
      "Iteration 26, loss = 9.08614390\n",
      "Iteration 27, loss = 8.75433001\n",
      "Iteration 28, loss = 8.55043371\n",
      "Iteration 29, loss = 9.25991373\n",
      "Iteration 30, loss = 9.11999717\n",
      "Iteration 31, loss = 8.51922464\n",
      "Iteration 32, loss = 9.86980473\n",
      "Iteration 33, loss = 12.09941606\n",
      "Iteration 34, loss = 12.30964646\n",
      "Iteration 35, loss = 10.57335110\n",
      "Iteration 36, loss = 9.43808664\n",
      "Iteration 37, loss = 9.87420980\n",
      "Iteration 38, loss = 10.85020143\n",
      "Iteration 39, loss = 10.81213985\n",
      "Iteration 40, loss = 10.37920268\n",
      "Iteration 41, loss = 10.14214759\n",
      "Iteration 42, loss = 10.01808937\n",
      "Training loss did not improve more than tol=0.000100 for 10 consecutive epochs. Stopping.\n"
     ]
    }
   ],
   "source": [
    "from sklearn.model_selection import cross_val_score\n",
    "from sklearn.metrics import accuracy_score\n",
    "accuracy_list = cross_val_score(my_ANN, X_train, y_train, cv=3, scoring='accuracy')"
   ]
  },
  {
   "cell_type": "code",
   "execution_count": 19,
   "id": "968f3646",
   "metadata": {},
   "outputs": [
    {
     "name": "stdout",
     "output_type": "stream",
     "text": [
      "Iteration 1, loss = 5.10484941\n",
      "Iteration 2, loss = 66.42639908\n",
      "Iteration 3, loss = 108.21185087\n",
      "Iteration 4, loss = 142.63797446\n",
      "Iteration 5, loss = 155.53106548\n",
      "Iteration 6, loss = 146.22521884\n",
      "Iteration 7, loss = 127.06773060\n",
      "Iteration 8, loss = 107.30431702\n",
      "Iteration 9, loss = 89.59288700\n",
      "Iteration 10, loss = 72.85971127\n",
      "Iteration 11, loss = 57.26337846\n",
      "Iteration 12, loss = 44.61543209\n",
      "Training loss did not improve more than tol=0.000100 for 10 consecutive epochs. Stopping.\n"
     ]
    },
    {
     "data": {
      "text/plain": [
       "MLPClassifier(activation='logistic', alpha=1, batch_size='auto', beta_1=0.9,\n",
       "              beta_2=0.999, early_stopping=False, epsilon=1e-08,\n",
       "              hidden_layer_sizes=(30,), learning_rate='constant',\n",
       "              learning_rate_init=0.02, max_iter=200, momentum=0.9,\n",
       "              n_iter_no_change=10, nesterovs_momentum=True, power_t=0.5,\n",
       "              random_state=1, shuffle=True, solver='adam', tol=0.0001,\n",
       "              validation_fraction=0.1, verbose=True, warm_start=False)"
      ]
     },
     "execution_count": 19,
     "metadata": {},
     "output_type": "execute_result"
    }
   ],
   "source": [
    "my_ANN.fit(X_test, y_test)"
   ]
  },
  {
   "cell_type": "code",
   "execution_count": 23,
   "id": "d94ca6a5",
   "metadata": {},
   "outputs": [
    {
     "name": "stderr",
     "output_type": "stream",
     "text": [
      "C:\\Users\\Michael Scott\\Anaconda3\\lib\\site-packages\\sklearn\\model_selection\\_split.py:657: Warning: The least populated class in y has only 1 members, which is too few. The minimum number of members in any class cannot be less than n_splits=2.\n",
      "  % (min_groups, self.n_splits)), Warning)\n"
     ]
    },
    {
     "name": "stdout",
     "output_type": "stream",
     "text": [
      "Iteration 1, loss = 3.83845115\n",
      "Iteration 2, loss = 1931.24517141\n",
      "Iteration 3, loss = 1859.17200237\n",
      "Iteration 4, loss = 1693.87560665\n",
      "Iteration 5, loss = 1507.03368828\n",
      "Iteration 6, loss = 1079.34850420\n",
      "Iteration 7, loss = 638.16044547\n",
      "Iteration 8, loss = 408.68494959\n",
      "Iteration 9, loss = 420.25414976\n",
      "Iteration 10, loss = 514.70111987\n",
      "Iteration 11, loss = 537.03400587\n",
      "Iteration 12, loss = 470.55015898\n",
      "Training loss did not improve more than tol=0.000100 for 10 consecutive epochs. Stopping.\n",
      "Iteration 1, loss = 5.10815989\n",
      "Iteration 2, loss = 68.68781864\n",
      "Iteration 3, loss = 111.17739197\n",
      "Iteration 4, loss = 145.67832748\n",
      "Iteration 5, loss = 157.91952889\n",
      "Iteration 6, loss = 147.35180833\n",
      "Iteration 7, loss = 127.00434834\n",
      "Iteration 8, loss = 106.44469723\n",
      "Iteration 9, loss = 88.32524322\n",
      "Iteration 10, loss = 71.29662001\n",
      "Iteration 11, loss = 55.45469493\n",
      "Iteration 12, loss = 42.81217792\n",
      "Training loss did not improve more than tol=0.000100 for 10 consecutive epochs. Stopping.\n"
     ]
    }
   ],
   "source": [
    "accuracy_list = cross_val_score(my_ANN, X_test, y_test, cv=2, scoring='accuracy')"
   ]
  },
  {
   "cell_type": "code",
   "execution_count": 24,
   "id": "11cb7b34",
   "metadata": {},
   "outputs": [
    {
     "name": "stdout",
     "output_type": "stream",
     "text": [
      "The accuracy on the testing set is :\n",
      "0.2\n"
     ]
    }
   ],
   "source": [
    "accuracy_cv = accuracy_list.mean()\n",
    "print('The accuracy on the testing set is :')\n",
    "print(accuracy_cv)"
   ]
  },
  {
   "cell_type": "code",
   "execution_count": 25,
   "id": "c5a3fa6d",
   "metadata": {},
   "outputs": [],
   "source": [
    "from sklearn.model_selection import GridSearchCV"
   ]
  },
  {
   "cell_type": "raw",
   "id": "56603c75",
   "metadata": {},
   "source": [
    "\n",
    "seed = 1  \n",
    "np.random.seed(seed)\n",
    "\n",
    "neuron_number = [(i,) for i in range(5,255, 5)]\n",
    "\n",
    "param_grid = dict(hidden_layer_sizes = neuron_number)\n",
    "print(param_grid,'\\n')\n",
    "\n",
    "my_ANN_grid = MLPClassifier(hidden_layer_sizes=(30,), activation= 'logistic', \n",
    "                       solver='adam', alpha=1, random_state=1, \n",
    "                       learning_rate_init = 0.02, verbose=True, tol=0.0001)\n",
    "\n",
    "grid = GridSearchCV(my_ANN_grid, param_grid, cv=4, scoring='accuracy')\n",
    "\n",
    "grid.fit(X_train, y_train)\n",
    "\n",
    "print(grid.best_score_)\n",
    "print(grid.best_params_)"
   ]
  },
  {
   "cell_type": "code",
   "execution_count": 31,
   "id": "5f49eef1",
   "metadata": {},
   "outputs": [
    {
     "data": {
      "image/png": "[encoded data removed]",
      "text/plain": [
       "<Figure size 432x288 with 1 Axes>"
      ]
     },
     "metadata": {
      "needs_background": "light"
     },
     "output_type": "display_data"
    }
   ],
   "source": [
    "plt.figure()\n",
    "\n",
    "# Roc Curve:\n",
    "#plt.plot(fpr, tpr, color='purple', lw=2, \n",
    "#         label='Decision tree ROC Curve (area = %0.2f)' % dt_AUC)\n",
    "#plt.plot(fpr1, tpr1, color='red', lw=2, \n",
    "#         label='Bagging ROC Curve (area = %0.2f)' % AUC)\n",
    "plt.plot(fpr2, tpr2, color='blue', lw=2, \n",
    "         label='ADABoost ROC Curve (area = %0.2f)' % ada_AUC)\n",
    "plt.plot(fpr3, tpr3, color='green', lw=2, \n",
    "         label='XGBoost ROC Curve (area = %0.2f)' % xg_AUC)\n",
    "plt.plot(fpr4, tpr4, color='black', lw=2, \n",
    "         label='Random Forest ROC Curve (area = %0.2f)' % rf_AUC)\n",
    "\n",
    "# Random Guess line:\n",
    "plt.plot([0, 1], [0, 1], color='blue', lw=1, linestyle='--')\n",
    "\n",
    "\n",
    "# Defining The Range of X-Axis and Y-Axis:\n",
    "plt.xlim([-0.005, 1.005])\n",
    "plt.ylim([0.0, 1.01])\n",
    "\n",
    "# Labels, Title, Legend:\n",
    "plt.xlabel('False Positive Rate')\n",
    "plt.ylabel('True Positive Rate')\n",
    "plt.title('Receiver operating characteristic')\n",
    "plt.legend(loc=\"lower right\")\n",
    "\n",
    "plt.show()"
   ]
  },
  {
   "cell_type": "code",
   "execution_count": 34,
   "id": "1efb77fe",
   "metadata": {},
   "outputs": [],
   "source": [
    "import numpy\n",
    "from keras.models import Sequential\n",
    "from keras.layers import Dense, Dropout, Flatten, BatchNormalization, Activation\n",
    "from keras.layers.convolutional import Conv2D, MaxPooling2D\n",
    "from keras.constraints import maxnorm\n",
    "from keras.utils import np_utils\n",
    "from keras.datasets import cifar10"
   ]
  },
  {
   "cell_type": "code",
   "execution_count": 33,
   "id": "383b4574",
   "metadata": {},
   "outputs": [],
   "source": [
    "seed = 1"
   ]
  },
  {
   "cell_type": "code",
   "execution_count": 35,
   "id": "842805ec",
   "metadata": {},
   "outputs": [
    {
     "ename": "KeyboardInterrupt",
     "evalue": "",
     "output_type": "error",
     "traceback": [
      "\u001b[1;31m---------------------------------------------------------------------------\u001b[0m",
      "\u001b[1;31mKeyboardInterrupt\u001b[0m                         Traceback (most recent call last)",
      "\u001b[1;32m<ipython-input-35-6b147c324db1>\u001b[0m in \u001b[0;36m<module>\u001b[1;34m\u001b[0m\n\u001b[1;32m----> 1\u001b[1;33m \u001b[0mX_train\u001b[0m \u001b[1;33m=\u001b[0m \u001b[0mX_train\u001b[0m\u001b[1;33m.\u001b[0m\u001b[0mastype\u001b[0m\u001b[1;33m(\u001b[0m\u001b[1;34m'float32'\u001b[0m\u001b[1;33m)\u001b[0m\u001b[1;33m\u001b[0m\u001b[1;33m\u001b[0m\u001b[0m\n\u001b[0m\u001b[0;32m      2\u001b[0m \u001b[0mX_test\u001b[0m \u001b[1;33m=\u001b[0m \u001b[0mX_test\u001b[0m\u001b[1;33m.\u001b[0m\u001b[0mastype\u001b[0m\u001b[1;33m(\u001b[0m\u001b[1;34m'float32'\u001b[0m\u001b[1;33m)\u001b[0m\u001b[1;33m\u001b[0m\u001b[1;33m\u001b[0m\u001b[0m\n\u001b[0;32m      3\u001b[0m \u001b[0mX_train\u001b[0m \u001b[1;33m=\u001b[0m \u001b[0mX_train\u001b[0m \u001b[1;33m/\u001b[0m \u001b[1;36m255.0\u001b[0m\u001b[1;33m\u001b[0m\u001b[1;33m\u001b[0m\u001b[0m\n\u001b[0;32m      4\u001b[0m \u001b[0mX_test\u001b[0m \u001b[1;33m=\u001b[0m \u001b[0mX_test\u001b[0m \u001b[1;33m/\u001b[0m \u001b[1;36m255.0\u001b[0m\u001b[1;33m\u001b[0m\u001b[1;33m\u001b[0m\u001b[0m\n",
      "\u001b[1;31mKeyboardInterrupt\u001b[0m: "
     ]
    }
   ],
   "source": [
    "X_train = X_train.astype('float32')\n",
    "X_test = X_test.astype('float32')\n",
    "X_train = X_train / 255.0\n",
    "X_test = X_test / 255.0"
   ]
  },
  {
   "cell_type": "code",
   "execution_count": 39,
   "id": "934bd55d",
   "metadata": {},
   "outputs": [
    {
     "data": {
      "image/png": "[encoded data removed]",
      "text/plain": [
       "<Figure size 1440x360 with 1 Axes>"
      ]
     },
     "metadata": {
      "needs_background": "light"
     },
     "output_type": "display_data"
    }
   ],
   "source": [
    "groups = df_trains['label_group'].value_counts()\n",
    "\n",
    "plt.figure(figsize = (20, 5))\n",
    "plt.plot(np.arange(len(groups)),groups.values)\n",
    "plt.title('Number of Duplicates',size = 5)\n",
    "plt.ylabel('Number of images with duplicates', size = 15)\n",
    "plt.xlabel('Number Duplicate a Product has', size = 5)\n",
    "plt.show()"
   ]
  },
  {
   "cell_type": "code",
   "execution_count": null,
   "id": "84400917",
   "metadata": {},
   "outputs": [],
   "source": []
  }
 ],
 "metadata": {
  "kernelspec": {
   "display_name": "Python 3",
   "language": "python",
   "name": "python3"
  },
  "language_info": {
   "codemirror_mode": {
    "name": "ipython",
    "version": 3
   },
   "file_extension": ".py",
   "mimetype": "text/x-python",
   "name": "python",
   "nbconvert_exporter": "python",
   "pygments_lexer": "ipython3",
   "version": "3.7.3"
  }
 },
 "nbformat": 4,
 "nbformat_minor": 5
}
