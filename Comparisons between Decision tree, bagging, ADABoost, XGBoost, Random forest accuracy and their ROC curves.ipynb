{
 "cells": [
  {
   "cell_type": "code",
   "execution_count": 2,
   "metadata": {},
   "outputs": [],
   "source": [
    "from sklearn.linear_model import LogisticRegression\n",
    "from sklearn.model_selection import train_test_split\n",
    "from sklearn.model_selection import cross_val_score\n",
    "from sklearn.metrics import accuracy_score\n",
    "from sklearn import metrics\n",
    "from sklearn.tree import DecisionTreeClassifier\n",
    "from sklearn.utils import resample\n",
    "import matplotlib.pyplot as plt\n",
    "import numpy as np\n",
    "import pandas as pd"
   ]
  },
  {
   "cell_type": "code",
   "execution_count": 3,
   "metadata": {},
   "outputs": [
    {
     "data": {
      "text/html": [
       "<div>\n",
       "<style scoped>\n",
       "    .dataframe tbody tr th:only-of-type {\n",
       "        vertical-align: middle;\n",
       "    }\n",
       "\n",
       "    .dataframe tbody tr th {\n",
       "        vertical-align: top;\n",
       "    }\n",
       "\n",
       "    .dataframe thead th {\n",
       "        text-align: right;\n",
       "    }\n",
       "</style>\n",
       "<table border=\"1\" class=\"dataframe\">\n",
       "  <thead>\n",
       "    <tr style=\"text-align: right;\">\n",
       "      <th></th>\n",
       "      <th>Clump_Thickness</th>\n",
       "      <th>Uniformity_of_Cell_Size</th>\n",
       "      <th>Uniformity_of_Cell_Shape</th>\n",
       "      <th>Marginal_Adhesion</th>\n",
       "      <th>Single_Epithelial_Cell_Size</th>\n",
       "      <th>Bare_Nuclei</th>\n",
       "      <th>Bland_Chromatin</th>\n",
       "      <th>Normal_Nucleoli</th>\n",
       "      <th>Mitoses</th>\n",
       "      <th>Malignant_Cancer</th>\n",
       "    </tr>\n",
       "  </thead>\n",
       "  <tbody>\n",
       "    <tr>\n",
       "      <th>0</th>\n",
       "      <td>5</td>\n",
       "      <td>1</td>\n",
       "      <td>1</td>\n",
       "      <td>1</td>\n",
       "      <td>2</td>\n",
       "      <td>1</td>\n",
       "      <td>3</td>\n",
       "      <td>1</td>\n",
       "      <td>1</td>\n",
       "      <td>0</td>\n",
       "    </tr>\n",
       "    <tr>\n",
       "      <th>1</th>\n",
       "      <td>5</td>\n",
       "      <td>4</td>\n",
       "      <td>4</td>\n",
       "      <td>5</td>\n",
       "      <td>7</td>\n",
       "      <td>10</td>\n",
       "      <td>3</td>\n",
       "      <td>2</td>\n",
       "      <td>1</td>\n",
       "      <td>0</td>\n",
       "    </tr>\n",
       "    <tr>\n",
       "      <th>2</th>\n",
       "      <td>3</td>\n",
       "      <td>1</td>\n",
       "      <td>1</td>\n",
       "      <td>1</td>\n",
       "      <td>2</td>\n",
       "      <td>2</td>\n",
       "      <td>3</td>\n",
       "      <td>1</td>\n",
       "      <td>1</td>\n",
       "      <td>0</td>\n",
       "    </tr>\n",
       "    <tr>\n",
       "      <th>3</th>\n",
       "      <td>6</td>\n",
       "      <td>8</td>\n",
       "      <td>8</td>\n",
       "      <td>1</td>\n",
       "      <td>3</td>\n",
       "      <td>4</td>\n",
       "      <td>3</td>\n",
       "      <td>7</td>\n",
       "      <td>1</td>\n",
       "      <td>0</td>\n",
       "    </tr>\n",
       "    <tr>\n",
       "      <th>4</th>\n",
       "      <td>4</td>\n",
       "      <td>1</td>\n",
       "      <td>1</td>\n",
       "      <td>3</td>\n",
       "      <td>2</td>\n",
       "      <td>1</td>\n",
       "      <td>3</td>\n",
       "      <td>1</td>\n",
       "      <td>1</td>\n",
       "      <td>0</td>\n",
       "    </tr>\n",
       "  </tbody>\n",
       "</table>\n",
       "</div>"
      ],
      "text/plain": [
       "   Clump_Thickness  Uniformity_of_Cell_Size  Uniformity_of_Cell_Shape  \\\n",
       "0                5                        1                         1   \n",
       "1                5                        4                         4   \n",
       "2                3                        1                         1   \n",
       "3                6                        8                         8   \n",
       "4                4                        1                         1   \n",
       "\n",
       "   Marginal_Adhesion  Single_Epithelial_Cell_Size  Bare_Nuclei  \\\n",
       "0                  1                            2            1   \n",
       "1                  5                            7           10   \n",
       "2                  1                            2            2   \n",
       "3                  1                            3            4   \n",
       "4                  3                            2            1   \n",
       "\n",
       "   Bland_Chromatin  Normal_Nucleoli  Mitoses  Malignant_Cancer  \n",
       "0                3                1        1                 0  \n",
       "1                3                2        1                 0  \n",
       "2                3                1        1                 0  \n",
       "3                3                7        1                 0  \n",
       "4                3                1        1                 0  "
      ]
     },
     "execution_count": 3,
     "metadata": {},
     "output_type": "execute_result"
    }
   ],
   "source": [
    "#1\n",
    "cancer_df = pd.read_csv('https://github.com/mpourhoma/CS4662/raw/master/Cancer.csv')\n",
    "cancer_df.head()"
   ]
  },
  {
   "cell_type": "code",
   "execution_count": 4,
   "metadata": {},
   "outputs": [],
   "source": [
    "feature_cols = ['Clump_Thickness','Uniformity_of_Cell_Size','Uniformity_of_Cell_Shape',\n",
    "                'Marginal_Adhesion','Single_Epithelial_Cell_Size','Bare_Nuclei',\n",
    "                'Bland_Chromatin','Normal_Nucleoli','Mitoses']"
   ]
  },
  {
   "cell_type": "code",
   "execution_count": 10,
   "metadata": {},
   "outputs": [
    {
     "name": "stdout",
     "output_type": "stream",
     "text": [
      "     Clump_Thickness  Uniformity_of_Cell_Size  Uniformity_of_Cell_Shape  \\\n",
      "6                  1                        1                         1   \n",
      "3                  6                        8                         8   \n",
      "113                5                        6                         7   \n",
      "12                 7                        4                         6   \n",
      "24                 5                        6                         5   \n",
      "129                5                        8                         8   \n",
      "25                10                       10                        10   \n",
      "108                7                        2                         4   \n",
      "128                6                        1                         1   \n",
      "45                10                        4                         2   \n",
      "48                 8                        3                         8   \n",
      "42                 9                       10                        10   \n",
      "35                10                        6                         6   \n",
      "5                  8                       10                        10   \n",
      "85                 7                        3                         4   \n",
      "54                10                        6                         4   \n",
      "41                 1                        1                         1   \n",
      "96                 8                        3                         3   \n",
      "144                1                        1                         1   \n",
      "89                 6                        5                         4   \n",
      "77                 5                        1                         1   \n",
      "74                 2                        1                         1   \n",
      "115                1                        1                         1   \n",
      "94                 3                        3                         2   \n",
      "87                 1                        6                         8   \n",
      "29                 7                        8                         7   \n",
      "2                  3                        1                         1   \n",
      "127                1                        1                         1   \n",
      "44                 1                        1                         1   \n",
      "125                5                        3                         3   \n",
      "126                1                        1                         1   \n",
      "23                 6                       10                        10   \n",
      "64                 3                        5                         7   \n",
      "117                1                        1                         1   \n",
      "84                10                       10                        10   \n",
      "14                 7                        3                         2   \n",
      "132                1                        5                         8   \n",
      "91                 8                        6                         4   \n",
      "53                 9                        4                         5   \n",
      "141                4                        1                         1   \n",
      "78                 9                        6                         9   \n",
      "97                 4                        5                         5   \n",
      "143                5                        1                         1   \n",
      "93                10                       10                        10   \n",
      "11                 8                        7                         5   \n",
      "\n",
      "     Marginal_Adhesion  Single_Epithelial_Cell_Size  Bare_Nuclei  \\\n",
      "6                    1                            2           10   \n",
      "3                    1                            3            4   \n",
      "113                  8                            8           10   \n",
      "12                   4                            6            1   \n",
      "24                   6                           10            1   \n",
      "129                  8                            5           10   \n",
      "25                   4                            8            1   \n",
      "108                  1                            6           10   \n",
      "128                  1                            2            1   \n",
      "45                   1                            3            2   \n",
      "48                   3                            4            9   \n",
      "42                   1                           10            8   \n",
      "35                   3                            4            5   \n",
      "5                    8                            7           10   \n",
      "85                   4                            3            3   \n",
      "54                   1                            3            4   \n",
      "41                   1                            2            2   \n",
      "96                   1                            2            2   \n",
      "144                  1                            2            1   \n",
      "89                   4                            3            9   \n",
      "77                   1                            2            1   \n",
      "74                   1                            2            1   \n",
      "115                  2                            1            1   \n",
      "94                   1                            2            3   \n",
      "87                  10                            8           10   \n",
      "29                   2                            4            8   \n",
      "2                    1                            2            2   \n",
      "127                  1                            2            1   \n",
      "44                   1                            2            1   \n",
      "125                  3                            6           10   \n",
      "126                  1                            1            1   \n",
      "23                   2                            8           10   \n",
      "64                   8                            8            9   \n",
      "117                  1                            2            1   \n",
      "84                  10                           10            1   \n",
      "14                  10                            5           10   \n",
      "132                  6                            5            8   \n",
      "91                   3                            5            9   \n",
      "53                  10                            6           10   \n",
      "141                  1                            2            1   \n",
      "78                   2                           10            6   \n",
      "97                  10                            4           10   \n",
      "143                  4                            2            1   \n",
      "93                   3                           10            8   \n",
      "11                  10                            7            9   \n",
      "\n",
      "     Bland_Chromatin  Normal_Nucleoli  Mitoses  \n",
      "6                  3                1        1  \n",
      "3                  3                7        1  \n",
      "113                3               10        3  \n",
      "12                 4                3        1  \n",
      "24                 3                1        1  \n",
      "129                7                8        1  \n",
      "25                 8               10        1  \n",
      "108                5                4        3  \n",
      "128                3                1        1  \n",
      "45                 4                3       10  \n",
      "48                 8                9        8  \n",
      "42                 3                3        1  \n",
      "35                 3                6        1  \n",
      "5                  9                7        1  \n",
      "85                 3                2        7  \n",
      "54                 3                2        3  \n",
      "41                 2                1        1  \n",
      "96                 3                2        1  \n",
      "144                1                1        1  \n",
      "89                 7                8        3  \n",
      "77                 3                1        1  \n",
      "74                 3                1        1  \n",
      "115                1                1        1  \n",
      "94                 3                1        1  \n",
      "87                 5                7        1  \n",
      "29                 3                8        2  \n",
      "2                  3                1        1  \n",
      "127                1                1        1  \n",
      "44                 2                1        1  \n",
      "125                3                1        1  \n",
      "126                3                1        1  \n",
      "23                 7                3        3  \n",
      "64                 7               10        7  \n",
      "117                3                1        1  \n",
      "84                 8                8        8  \n",
      "14                 5                4        4  \n",
      "132                7               10        1  \n",
      "91                 3                1        1  \n",
      "53                 4                8        1  \n",
      "141                3                1        1  \n",
      "78                 2                9       10  \n",
      "97                 7                5        8  \n",
      "143                3                1        1  \n",
      "93                 8                1        1  \n",
      "11                 5                5        4  \n"
     ]
    }
   ],
   "source": [
    "#2\n",
    "X = cancer_df[feature_cols] \n",
    "\n",
    "y = cancer_df['Malignant_Cancer']\n",
    "\n",
    "X_train, X_test, y_train, y_test = train_test_split(X, y, test_size=0.3, random_state=2)\n",
    "print(X_test)"
   ]
  },
  {
   "cell_type": "code",
   "execution_count": 237,
   "metadata": {},
   "outputs": [
    {
     "data": {
      "text/plain": [
       "DecisionTreeClassifier(class_weight=None, criterion='gini', max_depth=None,\n",
       "                       max_features=None, max_leaf_nodes=None,\n",
       "                       min_impurity_decrease=0.0, min_impurity_split=None,\n",
       "                       min_samples_leaf=1, min_samples_split=2,\n",
       "                       min_weight_fraction_leaf=0.0, presort=False,\n",
       "                       random_state=2, splitter='best')"
      ]
     },
     "execution_count": 237,
     "metadata": {},
     "output_type": "execute_result"
    }
   ],
   "source": [
    "my_decisiontree = DecisionTreeClassifier(random_state=2)\n",
    "my_decisiontree.fit(X, y)"
   ]
  },
  {
   "cell_type": "code",
   "execution_count": 238,
   "metadata": {},
   "outputs": [
    {
     "name": "stdout",
     "output_type": "stream",
     "text": [
      "Decision tree accuracy: \n",
      "0.8666666666666667\n",
      "Decision tree AUC: \n",
      "0.8697478991596639\n"
     ]
    }
   ],
   "source": [
    "#3\n",
    "my_decisiontree.fit(X_train, y_train)\n",
    "y_predict_dt = my_decisiontree.predict(X_test)\n",
    "score_dt = accuracy_score(y_test, y_predict_dt)\n",
    "print('Decision tree accuracy: ')\n",
    "print(score_dt)\n",
    "\n",
    "y_predict_dt_proba = my_decisiontree.predict_proba(X_test)\n",
    "\n",
    "fpr, tpr, thresholds = metrics.roc_curve(y_test, y_predict_dt_proba[:,1], pos_label=1)\n",
    "\n",
    "dt_AUC = metrics.auc(fpr, tpr)\n",
    "print('Decision tree AUC: ')\n",
    "print(dt_AUC)"
   ]
  },
  {
   "cell_type": "code",
   "execution_count": 239,
   "metadata": {},
   "outputs": [
    {
     "name": "stdout",
     "output_type": "stream",
     "text": [
      "[0.7777777777777778, 0.8666666666666667, 0.8666666666666667, 0.8444444444444444, 0.8222222222222222, 0.8444444444444444, 0.8444444444444444, 0.8444444444444444, 0.8888888888888888, 0.8, 0.8444444444444444, 0.8444444444444444, 0.8444444444444444, 0.8888888888888888, 0.8222222222222222, 0.8444444444444444, 0.8444444444444444, 0.8444444444444444, 0.8666666666666667, 0.9333333333333333, 0.8666666666666667, 0.8666666666666667, 0.8, 0.8666666666666667, 0.8666666666666667, 0.8222222222222222, 0.8444444444444444, 0.8, 0.8888888888888888]\n"
     ]
    }
   ],
   "source": [
    "#4\n",
    "tree_predictions = []\n",
    "for i in range(29):\n",
    "    bootstarp_size = int(0.8*len(cancer_df))\n",
    "    x_bag, y_bag = resample(X_train, y_train, n_samples = bootstarp_size , random_state=i , replace = True) \n",
    "    Base_DecisionTree = DecisionTreeClassifier(random_state=2)\n",
    "    Base_DecisionTree.fit(x_bag, y_bag)\n",
    "    y_predict_bag = Base_DecisionTree.predict(X_test)\n",
    "    accuracy = accuracy_score(y_test, y_predict_bag)\n",
    "    tree_predictions.append(accuracy)\n",
    "print(tree_predictions)\n",
    "\n",
    "\n",
    "def Average(tree_predictions): \n",
    "    return sum(tree_predictions) / len(tree_predictions)\n",
    "\n",
    "bagging_avg = Average(tree_predictions)\n"
   ]
  },
  {
   "cell_type": "code",
   "execution_count": 240,
   "metadata": {},
   "outputs": [
    {
     "name": "stdout",
     "output_type": "stream",
     "text": [
      "Bagging voting: \n",
      "0.8444444444444444\n",
      "Bagging accuracy mean: \n",
      "0.8482758620689658\n"
     ]
    }
   ],
   "source": [
    "#4\n",
    "def vote(input):\n",
    "    member = max(set(input), key=input.count)\n",
    "    return member\n",
    "vote_y_test = vote(tree_predictions)\n",
    "print('Bagging voting: ')\n",
    "print(vote_y_test)\n",
    "print('Bagging accuracy mean: ')\n",
    "print(bagging_avg)"
   ]
  },
  {
   "cell_type": "code",
   "execution_count": 241,
   "metadata": {},
   "outputs": [],
   "source": [
    "\n",
    "fpr1, tpr1, thresholds = metrics.roc_curve(y_test, y_predict_bag, pos_label=1)\n"
   ]
  },
  {
   "cell_type": "code",
   "execution_count": 242,
   "metadata": {},
   "outputs": [
    {
     "name": "stdout",
     "output_type": "stream",
     "text": [
      "Bagging AUC: \n",
      "0.8644957983193278\n"
     ]
    }
   ],
   "source": [
    "#4\n",
    "AUC = metrics.auc(fpr1, tpr1)\n",
    "\n",
    "\n",
    "print('Bagging AUC: ')\n",
    "print(AUC)"
   ]
  },
  {
   "cell_type": "code",
   "execution_count": 243,
   "metadata": {},
   "outputs": [
    {
     "name": "stdout",
     "output_type": "stream",
     "text": [
      "Ada accuracy: \n",
      "0.9555555555555556\n",
      "Ada AUC: \n",
      "0.9653361344537815\n"
     ]
    }
   ],
   "source": [
    "#5\n",
    "from   sklearn.ensemble   import     AdaBoostClassifier\n",
    "\n",
    "my_AdaBoost = AdaBoostClassifier(n_estimators = 29,random_state=2)\n",
    "X_train, X_test, y_train, y_test = train_test_split(X, y, test_size=0.3, random_state=2)\n",
    "my_AdaBoost.fit(X_train, y_train)\n",
    "y_AdaBoost_predict = my_AdaBoost.predict(X_test)\n",
    "adaBoost_score = accuracy_score(y_test, y_AdaBoost_predict)\n",
    "\n",
    "y_predict_ada_proba = my_AdaBoost.predict_proba(X_test)\n",
    "\n",
    "fpr2, tpr2, thresholds = metrics.roc_curve(y_test, y_predict_ada_proba[:,1], pos_label=1)\n",
    "\n",
    "ada_AUC = metrics.auc(fpr2, tpr2)\n",
    "\n",
    "print(\"Ada accuracy: \")\n",
    "print(adaBoost_score)\n",
    "print(\"Ada AUC: \")\n",
    "print(ada_AUC)"
   ]
  },
  {
   "cell_type": "code",
   "execution_count": 244,
   "metadata": {},
   "outputs": [
    {
     "name": "stdout",
     "output_type": "stream",
     "text": [
      "[23:44:29] WARNING: C:/Users/Administrator/workspace/xgboost-win64_release_1.3.0/src/learner.cc:1061: Starting in XGBoost 1.3.0, the default evaluation metric used with the objective 'binary:logistic' was changed from 'error' to 'logloss'. Explicitly set eval_metric if you'd like to restore the old behavior.\n",
      "XGBoost accuracy: \n",
      "0.9555555555555556\n",
      "XGBoost AUC: \n",
      "0.9716386554621849\n"
     ]
    },
    {
     "name": "stderr",
     "output_type": "stream",
     "text": [
      "C:\\Users\\Michael Scott\\Anaconda3\\lib\\site-packages\\xgboost\\sklearn.py:888: UserWarning: The use of label encoder in XGBClassifier is deprecated and will be removed in a future release. To remove this warning, do the following: 1) Pass option use_label_encoder=False when constructing XGBClassifier object; and 2) Encode your labels (y) as integers starting with 0, i.e. 0, 1, 2, ..., [num_class - 1].\n",
      "  warnings.warn(label_encoder_deprecation_msg, UserWarning)\n"
     ]
    }
   ],
   "source": [
    "#6\n",
    "from   xgboost   import   XGBClassifier\n",
    "\n",
    "my_XGBoost = XGBClassifier(n_estimators = 29,random_state=2)\n",
    "X_train, X_test, y_train, y_test = train_test_split(X, y, test_size=0.3, random_state=2)\n",
    "my_XGBoost.fit(X_train, y_train)\n",
    "y_XGBoost_predict = my_XGBoost.predict(X_test)\n",
    "xG_score = accuracy_score(y_test, y_XGBoost_predict)\n",
    "\n",
    "y_predict_xg_proba = my_XGBoost.predict_proba(X_test)\n",
    "\n",
    "fpr3, tpr3, thresholds = metrics.roc_curve(y_test, y_predict_xg_proba[:,1], pos_label=1)\n",
    "\n",
    "xg_AUC=metrics.auc(fpr3, tpr3)\n",
    "\n",
    "\n",
    "print(\"XGBoost accuracy: \")\n",
    "print(xG_score)\n",
    "print(\"XGBoost AUC: \")\n",
    "print(xg_AUC)"
   ]
  },
  {
   "cell_type": "code",
   "execution_count": 248,
   "metadata": {},
   "outputs": [
    {
     "name": "stdout",
     "output_type": "stream",
     "text": [
      "Random Forest accuracy: \n",
      "0.9555555555555556\n",
      "Random Forest AUC: \n",
      "0.9516806722689075\n"
     ]
    }
   ],
   "source": [
    "#7\n",
    "from   sklearn.ensemble    import    RandomForestClassifier\n",
    "\n",
    "my_RandomForest = RandomForestClassifier(n_estimators = 29, bootstrap = True, random_state=2)\n",
    "X_train, X_test, y_train, y_test = train_test_split(X, y, test_size=0.3, random_state=2)\n",
    "my_RandomForest.fit(X_train, y_train)\n",
    "y_predict_rf = my_RandomForest.predict(X_test)\n",
    "\n",
    "score_rf = accuracy_score(y_test, y_predict_rf)\n",
    "\n",
    "y_predict_rf_proba = my_RandomForest.predict_proba(X_test)\n",
    "\n",
    "fpr4, tpr4, thresholds = metrics.roc_curve(y_test, y_predict_rf_proba[:,1], pos_label=1)\n",
    "rf_AUC = metrics.auc(fpr4, tpr4)\n",
    "print(\"Random Forest accuracy: \")\n",
    "print(score_rf)\n",
    "print(\"Random Forest AUC: \")\n",
    "print(rf_AUC)"
   ]
  },
  {
   "cell_type": "code",
   "execution_count": 249,
   "metadata": {},
   "outputs": [
    {
     "data": {
      "image/png": "[encoded data removed]",
      "text/plain": [
       "<Figure size 432x288 with 1 Axes>"
      ]
     },
     "metadata": {
      "needs_background": "light"
     },
     "output_type": "display_data"
    }
   ],
   "source": [
    "#8\n",
    "plt.figure()\n",
    "\n",
    "# Roc Curve:\n",
    "plt.plot(fpr, tpr, color='purple', lw=2, \n",
    "         label='Decision tree ROC Curve (area = %0.2f)' % dt_AUC)\n",
    "plt.plot(fpr1, tpr1, color='red', lw=2, \n",
    "         label='Bagging ROC Curve (area = %0.2f)' % AUC)\n",
    "plt.plot(fpr2, tpr2, color='blue', lw=2, \n",
    "         label='ADABoost ROC Curve (area = %0.2f)' % ada_AUC)\n",
    "plt.plot(fpr3, tpr3, color='green', lw=2, \n",
    "         label='XGBoost ROC Curve (area = %0.2f)' % xg_AUC)\n",
    "plt.plot(fpr4, tpr4, color='black', lw=2, \n",
    "         label='Random Forest ROC Curve (area = %0.2f)' % rf_AUC)\n",
    "\n",
    "# Random Guess line:\n",
    "plt.plot([0, 1], [0, 1], color='blue', lw=1, linestyle='--')\n",
    "\n",
    "\n",
    "# Defining The Range of X-Axis and Y-Axis:\n",
    "plt.xlim([-0.005, 1.005])\n",
    "plt.ylim([0.0, 1.01])\n",
    "\n",
    "# Labels, Title, Legend:\n",
    "plt.xlabel('False Positive Rate')\n",
    "plt.ylabel('True Positive Rate')\n",
    "plt.title('Receiver operating characteristic')\n",
    "plt.legend(loc=\"lower right\")\n",
    "\n",
    "plt.show()"
   ]
  },
  {
   "cell_type": "code",
   "execution_count": 247,
   "metadata": {},
   "outputs": [
    {
     "name": "stdout",
     "output_type": "stream",
     "text": [
      "The best algorithm with respect to the AUC curve is XGBoost with 0.971\n",
      "The best algorithm with respect to the accuracy value is XGBoost, Ada_Boost, and Random Forest with 0.955\n",
      "The best algorithm with a false positive rate of 7% is the Random Forest\n"
     ]
    }
   ],
   "source": [
    "print('The best algorithm with respect to the AUC curve is XGBoost with 0.971')\n",
    "print('The best algorithm with respect to the accuracy value is XGBoost, Ada_Boost, and Random Forest with 0.955')\n",
    "print('The best algorithm with a false positive rate of 7% is the Random Forest')"
   ]
  },
  {
   "cell_type": "code",
   "execution_count": null,
   "metadata": {},
   "outputs": [],
   "source": []
  }
 ],
 "metadata": {
  "kernelspec": {
   "display_name": "Python 3",
   "language": "python",
   "name": "python3"
  },
  "language_info": {
   "codemirror_mode": {
    "name": "ipython",
    "version": 3
   },
   "file_extension": ".py",
   "mimetype": "text/x-python",
   "name": "python",
   "nbconvert_exporter": "python",
   "pygments_lexer": "ipython3",
   "version": "3.7.3"
  }
 },
 "nbformat": 4,
 "nbformat_minor": 2
}
