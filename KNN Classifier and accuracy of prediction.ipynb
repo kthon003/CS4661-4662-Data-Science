{
 "cells": [
  {
   "cell_type": "code",
   "execution_count": 6,
   "metadata": {},
   "outputs": [],
   "source": [
    "import numpy as np\n",
    "import pandas as pd\n",
    "from sklearn.model_selection import train_test_split\n",
    "from sklearn.neighbors import KNeighborsClassifier\n",
    "from sklearn.metrics import accuracy_score\n",
    "\n",
    "df = pd.read_csv('/Users/Michael Scott/Desktop/iris.csv')\n",
    "feature_cols = ['sepal_length','sepal_width','petal_length','petal_width']\n",
    "X = df[['sepal_length','sepal_width','petal_length','petal_width']]\n",
    "y = df['species']"
   ]
  },
  {
   "cell_type": "code",
   "execution_count": 7,
   "metadata": {},
   "outputs": [],
   "source": [
    "X_train, X_test, y_train, y_test = train_test_split(X, y, test_size=0.4, random_state=10)"
   ]
  },
  {
   "cell_type": "code",
   "execution_count": 8,
   "metadata": {},
   "outputs": [
    {
     "data": {
      "text/plain": [
       "KNeighborsClassifier(algorithm='auto', leaf_size=30, metric='minkowski',\n",
       "                     metric_params=None, n_jobs=None, n_neighbors=3, p=2,\n",
       "                     weights='uniform')"
      ]
     },
     "execution_count": 8,
     "metadata": {},
     "output_type": "execute_result"
    }
   ],
   "source": [
    "k = 3\n",
    "knn = KNeighborsClassifier(n_neighbors=k) \n",
    "knn.fit(X, y)"
   ]
  },
  {
   "cell_type": "code",
   "execution_count": 9,
   "metadata": {},
   "outputs": [
    {
     "name": "stdout",
     "output_type": "stream",
     "text": [
      "0.9333333333333333\n"
     ]
    }
   ],
   "source": [
    "knn.fit(X_train, y_train)\n",
    "y_predict = knn.predict(X_train)\n",
    "\n",
    "y_predict = knn.predict(X_test)\n",
    "\n",
    "accuracy = accuracy_score(y_test, y_predict)\n",
    "\n",
    "print(accuracy)"
   ]
  },
  {
   "cell_type": "code",
   "execution_count": 10,
   "metadata": {},
   "outputs": [
    {
     "name": "stdout",
     "output_type": "stream",
     "text": [
      "[0.9166666666666666, 0.9333333333333333, 0.95, 0.9666666666666667, 0.95, 0.95, 0.6666666666666666]\n"
     ]
    }
   ],
   "source": [
    "accuracy_list=[]\n",
    "k=[1,3,5,7,15,27,59]\n",
    "for i in k[0:]:\n",
    "\n",
    "    knn = KNeighborsClassifier(n_neighbors=i) \n",
    "    knn.fit(X_train, y_train)\n",
    "    #print(i)\n",
    "    y_predict = knn.predict(X_train)\n",
    "    \n",
    "    y_predict = knn.predict(X_test)\n",
    "    \n",
    "    accuracy = accuracy_score(y_test, y_predict)\n",
    "    accuracy_list.append(accuracy)\n",
    "    \n",
    "print(accuracy_list)"
   ]
  },
  {
   "cell_type": "code",
   "execution_count": 11,
   "metadata": {},
   "outputs": [
    {
     "name": "stdout",
     "output_type": "stream",
     "text": [
      "[0.6166666666666667, 0.5333333333333333, 0.9333333333333333, 0.95]\n"
     ]
    }
   ],
   "source": [
    "accuracy_list=[]\n",
    "\n",
    "X = df[['sepal_length']]\n",
    "y = df['species']\n",
    "X_train, X_test, y_train, y_test = train_test_split(X, y, test_size=0.4, random_state=10)\n",
    "k = 11\n",
    "knn = KNeighborsClassifier(n_neighbors=k) \n",
    "knn.fit(X, y)\n",
    "\n",
    "knn.fit(X_train, y_train)\n",
    "y_predict = knn.predict(X_train)\n",
    "\n",
    "y_predict = knn.predict(X_test)\n",
    "\n",
    "accuracy = accuracy_score(y_test, y_predict)\n",
    "\n",
    "accuracy_list.append(accuracy)\n",
    "\n",
    "X = df[['sepal_width']]\n",
    "#y = df['species']\n",
    "#k = 11\n",
    "X_train, X_test, y_train, y_test = train_test_split(X, y, test_size=0.4, random_state=10)\n",
    "knn = KNeighborsClassifier(n_neighbors=k) \n",
    "knn.fit(X, y)\n",
    "\n",
    "\n",
    "knn.fit(X_train, y_train)\n",
    "y_predict = knn.predict(X_train)\n",
    "\n",
    "y_predict = knn.predict(X_test)\n",
    "\n",
    "accuracy = accuracy_score(y_test, y_predict)\n",
    "\n",
    "accuracy_list.append(accuracy)\n",
    "\n",
    "feature_cols = ['petal_length']\n",
    "X = df[['petal_length']]\n",
    "X_train, X_test, y_train, y_test = train_test_split(X, y, test_size=0.4, random_state=10)\n",
    "#y = df['species']\n",
    "#k = 11\n",
    "knn = KNeighborsClassifier(n_neighbors=k) \n",
    "knn.fit(X, y)\n",
    "knn.fit(X_train, y_train)\n",
    "y_predict = knn.predict(X_train)\n",
    "\n",
    "y_predict = knn.predict(X_test)\n",
    "\n",
    "accuracy = accuracy_score(y_test, y_predict)\n",
    "\n",
    "accuracy_list.append(accuracy)\n",
    "\n",
    "feature_cols = ['petal_width']\n",
    "X = df[['petal_width']]\n",
    "X_train, X_test, y_train, y_test = train_test_split(X, y, test_size=0.4, random_state=10)\n",
    "#y = df['species']\n",
    "#k = 11\n",
    "knn = KNeighborsClassifier(n_neighbors=k) \n",
    "knn.fit(X, y)\n",
    "\n",
    "knn.fit(X_train, y_train)\n",
    "y_predict = knn.predict(X_train)\n",
    "\n",
    "y_predict = knn.predict(X_test)\n",
    "\n",
    "accuracy = accuracy_score(y_test, y_predict)\n",
    "\n",
    "accuracy_list.append(accuracy)\n",
    "\n",
    "print(accuracy_list)"
   ]
  },
  {
   "cell_type": "code",
   "execution_count": 12,
   "metadata": {},
   "outputs": [
    {
     "name": "stdout",
     "output_type": "stream",
     "text": [
      "[0.7333333333333333, 0.9166666666666666, 0.9, 0.95, 0.9666666666666667, 0.95]\n"
     ]
    }
   ],
   "source": [
    "accuracy_list=[]\n",
    "feature_cols = ['sepal_length','sepal_width']\n",
    "X = df[['sepal_length','sepal_width']]\n",
    "y = df['species']\n",
    "X_train, X_test, y_train, y_test = train_test_split(X, y, test_size=0.4, random_state=10)\n",
    "k = 11\n",
    "knn = KNeighborsClassifier(n_neighbors=k) \n",
    "knn.fit(X, y)\n",
    "\n",
    "knn.fit(X_train, y_train)\n",
    "y_predict = knn.predict(X_train)\n",
    "\n",
    "y_predict = knn.predict(X_test)\n",
    "\n",
    "accuracy = accuracy_score(y_test, y_predict)\n",
    "\n",
    "accuracy_list.append(accuracy)\n",
    "\n",
    "feature_cols = ['sepal_length','petal_length']\n",
    "X = df[['sepal_length','petal_length']]\n",
    "#y = df['species']\n",
    "X_train, X_test, y_train, y_test = train_test_split(X, y, test_size=0.4, random_state=10)\n",
    "#k = 11\n",
    "knn = KNeighborsClassifier(n_neighbors=k) \n",
    "knn.fit(X, y)\n",
    "\n",
    "knn.fit(X_train, y_train)\n",
    "y_predict = knn.predict(X_train)\n",
    "\n",
    "y_predict = knn.predict(X_test)\n",
    "\n",
    "accuracy = accuracy_score(y_test, y_predict)\n",
    "\n",
    "accuracy_list.append(accuracy)\n",
    "\n",
    "\n",
    "feature_cols = ['sepal_length','petal_width']\n",
    "X = df[['sepal_length','petal_width']]\n",
    "#y = df['species']\n",
    "X_train, X_test, y_train, y_test = train_test_split(X, y, test_size=0.4, random_state=10)\n",
    "#k = 11\n",
    "knn = KNeighborsClassifier(n_neighbors=k) \n",
    "knn.fit(X, y)\n",
    "knn.fit(X_train, y_train)\n",
    "y_predict = knn.predict(X_train)\n",
    "\n",
    "y_predict = knn.predict(X_test)\n",
    "\n",
    "accuracy = accuracy_score(y_test, y_predict)\n",
    "\n",
    "accuracy_list.append(accuracy)\n",
    "\n",
    "feature_cols = ['sepal_width','petal_length']\n",
    "X = df[['sepal_width','petal_length']]\n",
    "X_train, X_test, y_train, y_test = train_test_split(X, y, test_size=0.4, random_state=10)\n",
    "#y = df['species']\n",
    "#k = 11\n",
    "knn = KNeighborsClassifier(n_neighbors=k) \n",
    "knn.fit(X, y)\n",
    "\n",
    "knn.fit(X_train, y_train)\n",
    "y_predict = knn.predict(X_train)\n",
    "\n",
    "y_predict = knn.predict(X_test)\n",
    "\n",
    "accuracy = accuracy_score(y_test, y_predict)\n",
    "\n",
    "accuracy_list.append(accuracy)\n",
    "\n",
    "#feature_cols = ['sepal_width','petal_width']\n",
    "X = df[['sepal_width','petal_width']]\n",
    "X_train, X_test, y_train, y_test = train_test_split(X, y, test_size=0.4, random_state=10)\n",
    "#y = df['species']\n",
    "#k = 11\n",
    "knn = KNeighborsClassifier(n_neighbors=k) \n",
    "knn.fit(X, y)\n",
    "\n",
    "knn.fit(X_train, y_train)\n",
    "y_predict = knn.predict(X_train)\n",
    "\n",
    "y_predict = knn.predict(X_test)\n",
    "\n",
    "accuracy = accuracy_score(y_test, y_predict)\n",
    "\n",
    "accuracy_list.append(accuracy)\n",
    "\n",
    "X = df[['petal_length','petal_width']]\n",
    "X_train, X_test, y_train, y_test = train_test_split(X, y, test_size=0.4, random_state=10)\n",
    "#y = df['species']\n",
    "#k = 11\n",
    "knn = KNeighborsClassifier(n_neighbors=k) \n",
    "knn.fit(X, y)\n",
    "\n",
    "knn.fit(X_train, y_train)\n",
    "y_predict = knn.predict(X_train)\n",
    "\n",
    "y_predict = knn.predict(X_test)\n",
    "\n",
    "accuracy = accuracy_score(y_test, y_predict)\n",
    "\n",
    "accuracy_list.append(accuracy)\n",
    "\n",
    "print(accuracy_list)\n"
   ]
  },
  {
   "cell_type": "code",
   "execution_count": 3,
   "metadata": {},
   "outputs": [
    {
     "name": "stdout",
     "output_type": "stream",
     "text": [
      "D: No, the accuracy does not always get better when increasing k, as shown when the largest value has the lowest accuracy\n"
     ]
    }
   ],
   "source": [
    "print('D: No, the accuracy does not always get better when increasing k, as shown when the largest value has the lowest accuracy')"
   ]
  },
  {
   "cell_type": "code",
   "execution_count": 13,
   "metadata": {},
   "outputs": [
    {
     "name": "stdout",
     "output_type": "stream",
     "text": [
      "E: The best feature to predict with is petal_width and the second best feature to predict with is petal_length\n"
     ]
    }
   ],
   "source": [
    "print('E: The best feature to predict with is petal_width and the second best feature to predict with is petal_length')"
   ]
  },
  {
   "cell_type": "code",
   "execution_count": 14,
   "metadata": {},
   "outputs": [
    {
     "name": "stdout",
     "output_type": "stream",
     "text": [
      "F: The pair sepal_width and petal_width are the pair with the best accuracy\n"
     ]
    }
   ],
   "source": [
    "print('F: The pair sepal_width and petal_width are the pair with the best accuracy')"
   ]
  },
  {
   "cell_type": "code",
   "execution_count": 15,
   "metadata": {},
   "outputs": [
    {
     "name": "stdout",
     "output_type": "stream",
     "text": [
      "G: No, the best pair does not contain both petal_width and petal_length\n"
     ]
    }
   ],
   "source": [
    "print('G: No, the best pair does not contain both petal_width and petal_length')"
   ]
  },
  {
   "cell_type": "code",
   "execution_count": null,
   "metadata": {},
   "outputs": [],
   "source": []
  }
 ],
 "metadata": {
  "kernelspec": {
   "display_name": "Python 3",
   "language": "python",
   "name": "python3"
  },
  "language_info": {
   "codemirror_mode": {
    "name": "ipython",
    "version": 3
   },
   "file_extension": ".py",
   "mimetype": "text/x-python",
   "name": "python",
   "nbconvert_exporter": "python",
   "pygments_lexer": "ipython3",
   "version": "3.7.3"
  }
 },
 "nbformat": 4,
 "nbformat_minor": 2
}
