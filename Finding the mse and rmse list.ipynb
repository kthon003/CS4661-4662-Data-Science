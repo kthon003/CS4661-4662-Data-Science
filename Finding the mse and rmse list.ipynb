{
 "cells": [
  {
   "cell_type": "code",
   "execution_count": 35,
   "metadata": {},
   "outputs": [],
   "source": [
    "import numpy as np\n",
    "import pandas as pd\n",
    "from sklearn.model_selection import train_test_split\n",
    "from sklearn.neighbors import KNeighborsClassifier\n",
    "from sklearn.metrics import accuracy_score\n",
    "from sklearn.linear_model import LogisticRegression\n",
    "from sklearn.tree import DecisionTreeClassifier\n",
    "from numpy import array\n",
    "from numpy import argmax\n",
    "from sklearn.preprocessing import LabelEncoder\n",
    "from sklearn.preprocessing import OneHotEncoder\n",
    "from sklearn.preprocessing import scale\n",
    "from sklearn.linear_model import LinearRegression\n",
    "from sklearn import metrics\n",
    "from sklearn.model_selection import cross_val_score\n",
    "\n",
    "df = pd.read_csv(\"https://github.com/mpourhoma/CS4661/raw/master/Credit.csv\")\n",
    "\n",
    "feature_cols = ['Income','Limit','Rating','Cards','Age','Education','Married']\n",
    "X = df[['Income','Limit','Rating','Cards','Age','Education','Married']]\n",
    "y = df['Balance']"
   ]
  },
  {
   "cell_type": "code",
   "execution_count": 24,
   "metadata": {},
   "outputs": [
    {
     "data": {
      "text/plain": [
       "array([[-0.86158299, -0.48999879, -0.46553881, ..., -1.2576741 ,\n",
       "        -0.78492991,  0.79539491],\n",
       "       [ 1.72743711,  0.82826106,  0.82870309, ...,  1.5284506 ,\n",
       "         0.49658831,  0.79539491],\n",
       "       [ 1.68675551,  1.01478681,  1.02931059, ...,  0.88996369,\n",
       "        -0.78492991, -1.25723711],\n",
       "       ...,\n",
       "       [ 0.35946155, -0.24491264, -0.21963285, ...,  0.65778663,\n",
       "        -0.46455035,  0.79539491],\n",
       "       [-0.21280808, -0.95891584, -1.05441888, ..., -0.67723146,\n",
       "        -0.1441708 ,  0.79539491],\n",
       "       [-0.75334493,  0.34199278,  0.38866085, ...,  0.48365384,\n",
       "        -2.06644812, -1.25723711]])"
      ]
     },
     "execution_count": 24,
     "metadata": {},
     "output_type": "execute_result"
    }
   ],
   "source": [
    "#b\n",
    "preprocessing.scale(X)"
   ]
  },
  {
   "cell_type": "code",
   "execution_count": 28,
   "metadata": {},
   "outputs": [
    {
     "data": {
      "text/plain": [
       "LinearRegression(copy_X=True, fit_intercept=True, n_jobs=None, normalize=False)"
      ]
     },
     "execution_count": 28,
     "metadata": {},
     "output_type": "execute_result"
    }
   ],
   "source": [
    "#c\n",
    "X_train, X_test, y_train, y_test = train_test_split(X, y, test_size=0.24,random_state=9)\n",
    "\n",
    "my_linreg = LinearRegression()\n",
    "\n",
    "my_linreg.fit(X_train, y_train)"
   ]
  },
  {
   "cell_type": "code",
   "execution_count": 30,
   "metadata": {},
   "outputs": [
    {
     "name": "stdout",
     "output_type": "stream",
     "text": [
      "-497.0869076583074\n",
      "[ -7.5197188    0.15640406   1.6355104   18.19349659  -1.00062374\n",
      "   3.73501837 -20.17447952]\n",
      "Married is the most important and Limit is the least important feature\n"
     ]
    }
   ],
   "source": [
    "#d\n",
    "print(my_linreg.intercept_)\n",
    "\n",
    "print(my_linreg.coef_)\n",
    "\n",
    "print('Married is the most important and Limit is the least important feature')"
   ]
  },
  {
   "cell_type": "code",
   "execution_count": 31,
   "metadata": {},
   "outputs": [],
   "source": [
    "y_prediction = my_linreg.predict(X_test)"
   ]
  },
  {
   "cell_type": "code",
   "execution_count": 34,
   "metadata": {},
   "outputs": [
    {
     "name": "stdout",
     "output_type": "stream",
     "text": [
      "143.2464973964321\n"
     ]
    }
   ],
   "source": [
    "#e\n",
    "mse = metrics.mean_squared_error(y_test, y_prediction)\n",
    "\n",
    "rmse = np.sqrt(mse)\n",
    "\n",
    "print(rmse)"
   ]
  },
  {
   "cell_type": "code",
   "execution_count": 36,
   "metadata": {},
   "outputs": [
    {
     "name": "stdout",
     "output_type": "stream",
     "text": [
      "[-23646.90415342 -32003.04401232 -35462.64435619 -37327.60719635\n",
      " -14341.32205938 -33628.37104224 -31631.99317834 -12491.00334951\n",
      " -20749.61212176 -23204.9474346 ]\n"
     ]
    }
   ],
   "source": [
    "#f\n",
    "mse_list = cross_val_score(my_linreg, X, y, cv=10, scoring='neg_mean_squared_error')\n",
    "\n",
    "print(mse_list)"
   ]
  },
  {
   "cell_type": "code",
   "execution_count": 40,
   "metadata": {},
   "outputs": [
    {
     "name": "stdout",
     "output_type": "stream",
     "text": [
      "[153.7754992  178.89394627 188.31527914 193.20353826 119.75525901\n",
      " 183.38039983 177.85385343 111.76315739 144.04725656 152.331702  ]\n",
      "The rmse mean is: 160.33198910744073\n"
     ]
    }
   ],
   "source": [
    "mse_list_positive = -mse_list\n",
    "\n",
    "rmse_list = np.sqrt(mse_list_positive)\n",
    "print(rmse_list)\n",
    "\n",
    "print('The rmse mean is:', rmse_list.mean())"
   ]
  },
  {
   "cell_type": "code",
   "execution_count": null,
   "metadata": {},
   "outputs": [],
   "source": []
  }
 ],
 "metadata": {
  "kernelspec": {
   "display_name": "Python 3",
   "language": "python",
   "name": "python3"
  },
  "language_info": {
   "codemirror_mode": {
    "name": "ipython",
    "version": 3
   },
   "file_extension": ".py",
   "mimetype": "text/x-python",
   "name": "python",
   "nbconvert_exporter": "python",
   "pygments_lexer": "ipython3",
   "version": "3.7.3"
  }
 },
 "nbformat": 4,
 "nbformat_minor": 2
}
